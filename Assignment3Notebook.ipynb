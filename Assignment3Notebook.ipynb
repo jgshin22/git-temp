{
  "cells": [
    {
      "cell_type": "markdown",
      "metadata": {
        "id": "view-in-github",
        "colab_type": "text"
      },
      "source": [
        "<a href=\"https://colab.research.google.com/github/jgshin22/git-temp/blob/main/Assignment3Notebook.ipynb\" target=\"_parent\"><img src=\"https://colab.research.google.com/assets/colab-badge.svg\" alt=\"Open In Colab\"/></a>"
      ]
    },
    {
      "cell_type": "markdown",
      "metadata": {
        "id": "XPffr22DSjQU"
      },
      "source": [
        "# Import needed libraries"
      ]
    },
    {
      "cell_type": "code",
      "execution_count": null,
      "metadata": {
        "colab": {
          "base_uri": "https://localhost:8080/"
        },
        "id": "XPPsPKAJSzuv",
        "outputId": "4d7f621b-97a8-4743-e916-9ddd43946d9d"
      },
      "outputs": [
        {
          "name": "stdout",
          "output_type": "stream",
          "text": [
            "Mounted at /content/drive\n"
          ]
        }
      ],
      "source": [
        "from google.colab import drive\n",
        "drive.mount('/content/drive')"
      ]
    },
    {
      "cell_type": "code",
      "execution_count": null,
      "metadata": {
        "id": "5f9tDaalTbI6"
      },
      "outputs": [],
      "source": [
        "filesPath = \"drive/MyDrive/Colab/머신러닝2/과제3\""
      ]
    },
    {
      "cell_type": "code",
      "execution_count": null,
      "metadata": {
        "id": "w7iDtcHtSjQW"
      },
      "outputs": [],
      "source": [
        "from torchvision.transforms import v2 as transforms\n",
        "import pandas as pd\n",
        "from PIL import Image\n",
        "import torch\n",
        "import torch.nn as nn\n",
        "import matplotlib.pyplot as plt\n",
        "from torch.utils.data import DataLoader, Dataset"
      ]
    },
    {
      "cell_type": "markdown",
      "metadata": {
        "id": "3POogu19SjQX"
      },
      "source": [
        "# Look into data"
      ]
    },
    {
      "cell_type": "code",
      "execution_count": null,
      "metadata": {
        "id": "3x6_gUudSjQX"
      },
      "outputs": [],
      "source": [
        "trainLabelCSV = pd.read_csv(filesPath + \"/data/train.csv\")"
      ]
    },
    {
      "cell_type": "code",
      "execution_count": null,
      "metadata": {
        "colab": {
          "base_uri": "https://localhost:8080/"
        },
        "id": "Rw2B6y7ASjQX",
        "outputId": "3abf0c11-b6e2-4cf5-cb2d-22fd53790baa"
      },
      "outputs": [
        {
          "data": {
            "text/plain": [
              "5311"
            ]
          },
          "execution_count": 5,
          "metadata": {},
          "output_type": "execute_result"
        }
      ],
      "source": [
        "len(trainLabelCSV)"
      ]
    },
    {
      "cell_type": "code",
      "execution_count": null,
      "metadata": {
        "colab": {
          "base_uri": "https://localhost:8080/",
          "height": 1000
        },
        "id": "BVyevjAHSjQY",
        "outputId": "ed761671-038a-4463-ff08-553b0c4e6581"
      },
      "outputs": [
        {
          "data": {
            "text/html": [
              "<div>\n",
              "<style scoped>\n",
              "    .dataframe tbody tr th:only-of-type {\n",
              "        vertical-align: middle;\n",
              "    }\n",
              "\n",
              "    .dataframe tbody tr th {\n",
              "        vertical-align: top;\n",
              "    }\n",
              "\n",
              "    .dataframe thead th {\n",
              "        text-align: right;\n",
              "    }\n",
              "</style>\n",
              "<table border=\"1\" class=\"dataframe\">\n",
              "  <thead>\n",
              "    <tr style=\"text-align: right;\">\n",
              "      <th></th>\n",
              "      <th>count</th>\n",
              "    </tr>\n",
              "    <tr>\n",
              "      <th>artist</th>\n",
              "      <th></th>\n",
              "    </tr>\n",
              "  </thead>\n",
              "  <tbody>\n",
              "    <tr>\n",
              "      <th>Vincent van Gogh</th>\n",
              "      <td>560</td>\n",
              "    </tr>\n",
              "    <tr>\n",
              "      <th>Edgar Degas</th>\n",
              "      <td>443</td>\n",
              "    </tr>\n",
              "    <tr>\n",
              "      <th>Pablo Picasso</th>\n",
              "      <td>274</td>\n",
              "    </tr>\n",
              "    <tr>\n",
              "      <th>Pierre-Auguste Renoir</th>\n",
              "      <td>210</td>\n",
              "    </tr>\n",
              "    <tr>\n",
              "      <th>Albrecht Du rer</th>\n",
              "      <td>201</td>\n",
              "    </tr>\n",
              "    <tr>\n",
              "      <th>Paul Gauguin</th>\n",
              "      <td>195</td>\n",
              "    </tr>\n",
              "    <tr>\n",
              "      <th>Francisco Goya</th>\n",
              "      <td>176</td>\n",
              "    </tr>\n",
              "    <tr>\n",
              "      <th>Rembrandt</th>\n",
              "      <td>161</td>\n",
              "    </tr>\n",
              "    <tr>\n",
              "      <th>Marc Chagall</th>\n",
              "      <td>156</td>\n",
              "    </tr>\n",
              "    <tr>\n",
              "      <th>Titian</th>\n",
              "      <td>153</td>\n",
              "    </tr>\n",
              "    <tr>\n",
              "      <th>Alfred Sisley</th>\n",
              "      <td>147</td>\n",
              "    </tr>\n",
              "    <tr>\n",
              "      <th>Paul Klee</th>\n",
              "      <td>124</td>\n",
              "    </tr>\n",
              "    <tr>\n",
              "      <th>Amedeo Modigliani</th>\n",
              "      <td>121</td>\n",
              "    </tr>\n",
              "    <tr>\n",
              "      <th>Rene Magritte</th>\n",
              "      <td>121</td>\n",
              "    </tr>\n",
              "    <tr>\n",
              "      <th>Andy Warhol</th>\n",
              "      <td>118</td>\n",
              "    </tr>\n",
              "    <tr>\n",
              "      <th>Henri Matisse</th>\n",
              "      <td>111</td>\n",
              "    </tr>\n",
              "    <tr>\n",
              "      <th>Sandro Botticelli</th>\n",
              "      <td>111</td>\n",
              "    </tr>\n",
              "    <tr>\n",
              "      <th>Mikhail Vrubel</th>\n",
              "      <td>106</td>\n",
              "    </tr>\n",
              "    <tr>\n",
              "      <th>Hieronymus Bosch</th>\n",
              "      <td>105</td>\n",
              "    </tr>\n",
              "    <tr>\n",
              "      <th>Leonardo da Vinci</th>\n",
              "      <td>96</td>\n",
              "    </tr>\n",
              "    <tr>\n",
              "      <th>Salvador Dali</th>\n",
              "      <td>88</td>\n",
              "    </tr>\n",
              "    <tr>\n",
              "      <th>Peter Paul Rubens</th>\n",
              "      <td>83</td>\n",
              "    </tr>\n",
              "    <tr>\n",
              "      <th>Kazimir Malevich</th>\n",
              "      <td>82</td>\n",
              "    </tr>\n",
              "    <tr>\n",
              "      <th>Pieter Bruegel</th>\n",
              "      <td>79</td>\n",
              "    </tr>\n",
              "    <tr>\n",
              "      <th>Frida Kahlo</th>\n",
              "      <td>72</td>\n",
              "    </tr>\n",
              "    <tr>\n",
              "      <th>Diego Velazquez</th>\n",
              "      <td>71</td>\n",
              "    </tr>\n",
              "    <tr>\n",
              "      <th>Andrei Rublev</th>\n",
              "      <td>70</td>\n",
              "    </tr>\n",
              "    <tr>\n",
              "      <th>Joan Miro</th>\n",
              "      <td>69</td>\n",
              "    </tr>\n",
              "    <tr>\n",
              "      <th>Raphael</th>\n",
              "      <td>68</td>\n",
              "    </tr>\n",
              "    <tr>\n",
              "      <th>Gustav Klimt</th>\n",
              "      <td>65</td>\n",
              "    </tr>\n",
              "    <tr>\n",
              "      <th>Giotto di Bondone</th>\n",
              "      <td>64</td>\n",
              "    </tr>\n",
              "    <tr>\n",
              "      <th>Jan van Eyck</th>\n",
              "      <td>61</td>\n",
              "    </tr>\n",
              "    <tr>\n",
              "      <th>Camille Pissarro</th>\n",
              "      <td>58</td>\n",
              "    </tr>\n",
              "    <tr>\n",
              "      <th>El Greco</th>\n",
              "      <td>57</td>\n",
              "    </tr>\n",
              "    <tr>\n",
              "      <th>Henri de Toulouse-Lautrec</th>\n",
              "      <td>57</td>\n",
              "    </tr>\n",
              "    <tr>\n",
              "      <th>Claude Monet</th>\n",
              "      <td>55</td>\n",
              "    </tr>\n",
              "    <tr>\n",
              "      <th>Vasiliy Kandinskiy</th>\n",
              "      <td>53</td>\n",
              "    </tr>\n",
              "    <tr>\n",
              "      <th>Edouard Manet</th>\n",
              "      <td>51</td>\n",
              "    </tr>\n",
              "    <tr>\n",
              "      <th>Piet Mondrian</th>\n",
              "      <td>51</td>\n",
              "    </tr>\n",
              "    <tr>\n",
              "      <th>Henri Rousseau</th>\n",
              "      <td>48</td>\n",
              "    </tr>\n",
              "    <tr>\n",
              "      <th>Diego Rivera</th>\n",
              "      <td>47</td>\n",
              "    </tr>\n",
              "    <tr>\n",
              "      <th>William Turner</th>\n",
              "      <td>41</td>\n",
              "    </tr>\n",
              "    <tr>\n",
              "      <th>Edvard Munch</th>\n",
              "      <td>39</td>\n",
              "    </tr>\n",
              "    <tr>\n",
              "      <th>Gustave Courbet</th>\n",
              "      <td>37</td>\n",
              "    </tr>\n",
              "    <tr>\n",
              "      <th>Michelangelo</th>\n",
              "      <td>30</td>\n",
              "    </tr>\n",
              "    <tr>\n",
              "      <th>Caravaggio</th>\n",
              "      <td>30</td>\n",
              "    </tr>\n",
              "    <tr>\n",
              "      <th>Georges Seurat</th>\n",
              "      <td>29</td>\n",
              "    </tr>\n",
              "    <tr>\n",
              "      <th>Paul Cezanne</th>\n",
              "      <td>28</td>\n",
              "    </tr>\n",
              "    <tr>\n",
              "      <th>Jackson Pollock</th>\n",
              "      <td>20</td>\n",
              "    </tr>\n",
              "    <tr>\n",
              "      <th>Eugene Delacroix</th>\n",
              "      <td>19</td>\n",
              "    </tr>\n",
              "  </tbody>\n",
              "</table>\n",
              "</div><br><label><b>dtype:</b> int64</label>"
            ],
            "text/plain": [
              "artist\n",
              "Vincent van Gogh             560\n",
              "Edgar Degas                  443\n",
              "Pablo Picasso                274\n",
              "Pierre-Auguste Renoir        210\n",
              "Albrecht Du rer              201\n",
              "Paul Gauguin                 195\n",
              "Francisco Goya               176\n",
              "Rembrandt                    161\n",
              "Marc Chagall                 156\n",
              "Titian                       153\n",
              "Alfred Sisley                147\n",
              "Paul Klee                    124\n",
              "Amedeo Modigliani            121\n",
              "Rene Magritte                121\n",
              "Andy Warhol                  118\n",
              "Henri Matisse                111\n",
              "Sandro Botticelli            111\n",
              "Mikhail Vrubel               106\n",
              "Hieronymus Bosch             105\n",
              "Leonardo da Vinci             96\n",
              "Salvador Dali                 88\n",
              "Peter Paul Rubens             83\n",
              "Kazimir Malevich              82\n",
              "Pieter Bruegel                79\n",
              "Frida Kahlo                   72\n",
              "Diego Velazquez               71\n",
              "Andrei Rublev                 70\n",
              "Joan Miro                     69\n",
              "Raphael                       68\n",
              "Gustav Klimt                  65\n",
              "Giotto di Bondone             64\n",
              "Jan van Eyck                  61\n",
              "Camille Pissarro              58\n",
              "El Greco                      57\n",
              "Henri de Toulouse-Lautrec     57\n",
              "Claude Monet                  55\n",
              "Vasiliy Kandinskiy            53\n",
              "Edouard Manet                 51\n",
              "Piet Mondrian                 51\n",
              "Henri Rousseau                48\n",
              "Diego Rivera                  47\n",
              "William Turner                41\n",
              "Edvard Munch                  39\n",
              "Gustave Courbet               37\n",
              "Michelangelo                  30\n",
              "Caravaggio                    30\n",
              "Georges Seurat                29\n",
              "Paul Cezanne                  28\n",
              "Jackson Pollock               20\n",
              "Eugene Delacroix              19\n",
              "Name: count, dtype: int64"
            ]
          },
          "execution_count": 6,
          "metadata": {},
          "output_type": "execute_result"
        }
      ],
      "source": [
        "trainLabelCSV.value_counts(\"artist\")"
      ]
    },
    {
      "cell_type": "markdown",
      "metadata": {
        "id": "PK_WC8b7SjQY"
      },
      "source": [
        "We may have to perform data augmentation for artists with less images(Dataset unbalanced)"
      ]
    },
    {
      "cell_type": "code",
      "execution_count": null,
      "metadata": {
        "colab": {
          "base_uri": "https://localhost:8080/",
          "height": 146
        },
        "id": "4WqQjarjUMCt",
        "outputId": "06012d59-a036-446b-904b-692087098191"
      },
      "outputs": [
        {
          "data": {
            "text/html": [
              "<div>\n",
              "<style scoped>\n",
              "    .dataframe tbody tr th:only-of-type {\n",
              "        vertical-align: middle;\n",
              "    }\n",
              "\n",
              "    .dataframe tbody tr th {\n",
              "        vertical-align: top;\n",
              "    }\n",
              "\n",
              "    .dataframe thead th {\n",
              "        text-align: right;\n",
              "    }\n",
              "</style>\n",
              "<table border=\"1\" class=\"dataframe\">\n",
              "  <thead>\n",
              "    <tr style=\"text-align: right;\">\n",
              "      <th></th>\n",
              "      <th>0</th>\n",
              "    </tr>\n",
              "  </thead>\n",
              "  <tbody>\n",
              "    <tr>\n",
              "      <th>id</th>\n",
              "      <td>dxi</td>\n",
              "    </tr>\n",
              "    <tr>\n",
              "      <th>artist</th>\n",
              "      <td>Diego Velazquez</td>\n",
              "    </tr>\n",
              "  </tbody>\n",
              "</table>\n",
              "</div><br><label><b>dtype:</b> object</label>"
            ],
            "text/plain": [
              "id                    dxi\n",
              "artist    Diego Velazquez\n",
              "Name: 0, dtype: object"
            ]
          },
          "execution_count": 7,
          "metadata": {},
          "output_type": "execute_result"
        }
      ],
      "source": [
        "trainLabelCSV.iloc[0]"
      ]
    },
    {
      "cell_type": "markdown",
      "metadata": {
        "id": "smYrz-YStjFn"
      },
      "source": [
        "## Create Label map"
      ]
    },
    {
      "cell_type": "code",
      "execution_count": null,
      "metadata": {
        "colab": {
          "base_uri": "https://localhost:8080/"
        },
        "id": "mguc1zJXSjQb",
        "outputId": "1e2c3b72-01cf-4449-be3c-c234d2bd6818"
      },
      "outputs": [
        {
          "output_type": "execute_result",
          "data": {
            "text/plain": [
              "{'Diego Velazquez': 0,\n",
              " 'Vincent van Gogh': 1,\n",
              " 'Claude Monet': 2,\n",
              " 'Edgar Degas': 3,\n",
              " 'Hieronymus Bosch': 4,\n",
              " 'Pierre-Auguste Renoir': 5,\n",
              " 'Rene Magritte': 6,\n",
              " 'Peter Paul Rubens': 7,\n",
              " 'Caravaggio': 8,\n",
              " 'Alfred Sisley': 9,\n",
              " 'Edouard Manet': 10,\n",
              " 'Rembrandt': 11,\n",
              " 'Pablo Picasso': 12,\n",
              " 'Titian': 13,\n",
              " 'Mikhail Vrubel': 14,\n",
              " 'Leonardo da Vinci': 15,\n",
              " 'Kazimir Malevich': 16,\n",
              " 'Andy Warhol': 17,\n",
              " 'Francisco Goya': 18,\n",
              " 'Vasiliy Kandinskiy': 19,\n",
              " 'Gustav Klimt': 20,\n",
              " 'Amedeo Modigliani': 21,\n",
              " 'Henri Rousseau': 22,\n",
              " 'Salvador Dali': 23,\n",
              " 'Pieter Bruegel': 24,\n",
              " 'Albrecht Du rer': 25,\n",
              " 'Paul Gauguin': 26,\n",
              " 'Sandro Botticelli': 27,\n",
              " 'Piet Mondrian': 28,\n",
              " 'Paul Klee': 29,\n",
              " 'William Turner': 30,\n",
              " 'Marc Chagall': 31,\n",
              " 'Jan van Eyck': 32,\n",
              " 'Henri Matisse': 33,\n",
              " 'El Greco': 34,\n",
              " 'Gustave Courbet': 35,\n",
              " 'Andrei Rublev': 36,\n",
              " 'Jackson Pollock': 37,\n",
              " 'Edvard Munch': 38,\n",
              " 'Camille Pissarro': 39,\n",
              " 'Raphael': 40,\n",
              " 'Henri de Toulouse-Lautrec': 41,\n",
              " 'Eugene Delacroix': 42,\n",
              " 'Joan Miro': 43,\n",
              " 'Giotto di Bondone': 44,\n",
              " 'Diego Rivera': 45,\n",
              " 'Frida Kahlo': 46,\n",
              " 'Georges Seurat': 47,\n",
              " 'Paul Cezanne': 48,\n",
              " 'Michelangelo': 49}"
            ]
          },
          "metadata": {},
          "execution_count": 16
        }
      ],
      "source": [
        "label_map = {}\n",
        "for i, artist in enumerate(trainLabelCSV['artist'].unique()):\n",
        "    label_map[artist] = i\n",
        "label_map"
      ]
    },
    {
      "cell_type": "markdown",
      "metadata": {
        "id": "ey2WGMBiSjQZ"
      },
      "source": [
        "# Transform data into 224 * 224 size"
      ]
    },
    {
      "cell_type": "markdown",
      "metadata": {
        "id": "EBx4VsoCuhuE"
      },
      "source": [
        "## Transform train image into 224 * 224 image/tensor and save it respectively"
      ]
    },
    {
      "cell_type": "code",
      "execution_count": null,
      "metadata": {
        "colab": {
          "base_uri": "https://localhost:8080/"
        },
        "id": "oAVp55NXSjQa",
        "outputId": "c62baeb6-7a1e-46b2-9c55-65502ce86588"
      },
      "outputs": [
        {
          "name": "stderr",
          "output_type": "stream",
          "text": [
            "/usr/local/lib/python3.10/dist-packages/torchvision/transforms/v2/_deprecated.py:42: UserWarning: The transform `ToTensor()` is deprecated and will be removed in a future release. Instead, please use `v2.Compose([v2.ToImage(), v2.ToDtype(torch.float32, scale=True)])`.Output is equivalent up to float precision.\n",
            "  warnings.warn(\n"
          ]
        }
      ],
      "source": [
        "transform_img = transforms.Compose([transforms.Resize((224,224))])\n",
        "transform_tensor = transforms.ToTensor()"
      ]
    },
    {
      "cell_type": "code",
      "execution_count": null,
      "metadata": {
        "colab": {
          "base_uri": "https://localhost:8080/"
        },
        "id": "HnIhqI_1SjQa",
        "outputId": "1e75d9cc-6318-4d0a-8fc3-9f4b8c45e9bb"
      },
      "outputs": [
        {
          "name": "stdout",
          "output_type": "stream",
          "text": [
            "0 500 1000 1500 2000 2500 3000 3500 4000 4500 5000 "
          ]
        }
      ],
      "source": [
        "train_imgDataset = []\n",
        "\n",
        "for i, artist in enumerate(trainLabelCSV['artist']):\n",
        "    if i % 500 == 0:\n",
        "        print(i, end=\" \")\n",
        "\n",
        "    label = label_map[artist]\n",
        "    img_path = filesPath + \"/data/train/train_original/\"+ trainLabelCSV.iloc[i]['id'] + '.jpg'\n",
        "    output_path = filesPath + \"/data/train/train_transformed1/\"+ trainLabelCSV.iloc[i]['id'] + '.jpg'\n",
        "    img = Image.open(img_path)\n",
        "    #print(img)\n",
        "    imgTransformed = transform_img(img)\n",
        "    imgTransformed.save(output_path)\n",
        "\n",
        "    imgTransformed = transform_tensor(imgTransformed)\n",
        "\n",
        "    data = (imgTransformed, label)\n",
        "    train_imgDataset.append(data)\n",
        "\n",
        "\n",
        "\n",
        "    #imgNumpy.append(label_map[artist])\n",
        "    #trainData_afterTransform.append(imgNumpy)\n",
        "    #break"
      ]
    },
    {
      "cell_type": "code",
      "execution_count": null,
      "metadata": {
        "colab": {
          "base_uri": "https://localhost:8080/"
        },
        "id": "RdQiLSvMvcns",
        "outputId": "04462872-e1f1-4904-fd65-8cd57102632e"
      },
      "outputs": [
        {
          "data": {
            "text/plain": [
              "5311"
            ]
          },
          "execution_count": 21,
          "metadata": {},
          "output_type": "execute_result"
        }
      ],
      "source": [
        "len(train_imgDataset)"
      ]
    },
    {
      "cell_type": "code",
      "execution_count": null,
      "metadata": {
        "colab": {
          "base_uri": "https://localhost:8080/"
        },
        "id": "38vGZMOcvfDk",
        "outputId": "09372914-1ac1-47e1-ef57-4dfa1c656d7b"
      },
      "outputs": [
        {
          "data": {
            "text/plain": [
              "(tensor([[[0.2078, 0.1843, 0.2000,  ..., 0.3765, 0.3608, 0.3647],\n",
              "          [0.2235, 0.2157, 0.2275,  ..., 0.3804, 0.3725, 0.3647],\n",
              "          [0.2353, 0.2471, 0.2745,  ..., 0.3647, 0.3569, 0.3569],\n",
              "          ...,\n",
              "          [0.1451, 0.1412, 0.1333,  ..., 0.1725, 0.1804, 0.2039],\n",
              "          [0.1490, 0.1490, 0.1373,  ..., 0.1765, 0.1804, 0.1961],\n",
              "          [0.1686, 0.1725, 0.1490,  ..., 0.1882, 0.1804, 0.1843]],\n",
              " \n",
              "         [[0.1725, 0.1451, 0.1490,  ..., 0.2941, 0.2745, 0.2784],\n",
              "          [0.1804, 0.1647, 0.1686,  ..., 0.2980, 0.2863, 0.2784],\n",
              "          [0.1804, 0.1922, 0.2078,  ..., 0.2784, 0.2706, 0.2745],\n",
              "          ...,\n",
              "          [0.1098, 0.1059, 0.0980,  ..., 0.1020, 0.1098, 0.1333],\n",
              "          [0.1137, 0.1137, 0.1020,  ..., 0.1059, 0.1098, 0.1255],\n",
              "          [0.1451, 0.1451, 0.1216,  ..., 0.1137, 0.1059, 0.1255]],\n",
              " \n",
              "         [[0.1647, 0.1333, 0.1412,  ..., 0.1922, 0.1804, 0.1882],\n",
              "          [0.1647, 0.1529, 0.1529,  ..., 0.1922, 0.1922, 0.1882],\n",
              "          [0.1608, 0.1725, 0.1961,  ..., 0.1804, 0.1765, 0.1843],\n",
              "          ...,\n",
              "          [0.1216, 0.1176, 0.1098,  ..., 0.1020, 0.1098, 0.1333],\n",
              "          [0.1255, 0.1255, 0.1137,  ..., 0.1020, 0.1098, 0.1255],\n",
              "          [0.1373, 0.1412, 0.1255,  ..., 0.1098, 0.1020, 0.1176]]]),\n",
              " 0)"
            ]
          },
          "execution_count": 29,
          "metadata": {},
          "output_type": "execute_result"
        }
      ],
      "source": [
        "train_imgDataset[0]"
      ]
    },
    {
      "cell_type": "code",
      "execution_count": null,
      "metadata": {
        "id": "0Ln0J8ke30wa"
      },
      "outputs": [],
      "source": [
        "torch.save(train_imgDataset, \"download/trainDataset.pt\")"
      ]
    },
    {
      "cell_type": "markdown",
      "metadata": {
        "id": "UNI_D8XbulAH"
      },
      "source": [
        "## Transform test data into 224* 224 image/tensor respecitvely and save it"
      ]
    },
    {
      "cell_type": "markdown",
      "source": [
        "Original Image -> 224*224 Image"
      ],
      "metadata": {
        "id": "wjZHsk_3G1zW"
      }
    },
    {
      "cell_type": "code",
      "execution_count": null,
      "metadata": {
        "id": "Mol_Q75C9Lr8"
      },
      "outputs": [],
      "source": [
        "testLabelCSV = pd.read_csv(filesPath + \"/data/test.csv\")"
      ]
    },
    {
      "cell_type": "code",
      "execution_count": null,
      "metadata": {
        "id": "_15WGuhaC7ON"
      },
      "outputs": [],
      "source": [
        "transform_img = transforms.Resize(((224,224)))"
      ]
    },
    {
      "cell_type": "code",
      "execution_count": null,
      "metadata": {
        "id": "vvVr3qAU9Hvp",
        "outputId": "8597fff3-8303-4f29-a849-0d161b447fb2"
      },
      "outputs": [
        {
          "name": "stdout",
          "output_type": "stream",
          "text": [
            "0 500 "
          ]
        }
      ],
      "source": [
        "for i in range(len(testLabelCSV)):\n",
        "    if i % 500 == 0:\n",
        "        print(i, end=\" \")\n",
        "    img_path = \"./data/test/test_original/\"+ testLabelCSV.iloc[i]['id'] + '.jpg'\n",
        "    output_path = \"./data/test/test_transformed1/\"+ testLabelCSV.iloc[i]['id'] + '.jpg'\n",
        "    img = Image.open(img_path)\n",
        "    #print(img)\n",
        "    imgTransformed = transform_img(img)\n",
        "    imgTransformed.save(output_path)"
      ]
    },
    {
      "cell_type": "code",
      "source": [
        "transform_tensor = transforms.ToTensor()"
      ],
      "metadata": {
        "colab": {
          "base_uri": "https://localhost:8080/"
        },
        "id": "46Od848tDaUW",
        "outputId": "dbc397c5-b01a-4a48-822c-9fe760b1b3b0"
      },
      "execution_count": null,
      "outputs": [
        {
          "output_type": "stream",
          "name": "stderr",
          "text": [
            "/usr/local/lib/python3.10/dist-packages/torchvision/transforms/v2/_deprecated.py:42: UserWarning: The transform `ToTensor()` is deprecated and will be removed in a future release. Instead, please use `v2.Compose([v2.ToImage(), v2.ToDtype(torch.float32, scale=True)])`.Output is equivalent up to float precision.\n",
            "  warnings.warn(\n"
          ]
        }
      ]
    },
    {
      "cell_type": "markdown",
      "source": [
        "Image -> List(Tensor)"
      ],
      "metadata": {
        "id": "BIjrn1XVGwxY"
      }
    },
    {
      "cell_type": "code",
      "source": [
        "test_imgDataset = []\n",
        "\n",
        "for i in range(len(testLabelCSV)):\n",
        "    if i % 500 == 0:\n",
        "        print(i, end=\" \")\n",
        "    imgPath = filesPath + \"/data/test/test_transformed1/\"+ testLabelCSV.iloc[i]['id'] + '.jpg'\n",
        "    img = Image.open(imgPath)\n",
        "    imgTensor = transform_tensor(img)\n",
        "    test_imgDataset.append(imgTensor)"
      ],
      "metadata": {
        "colab": {
          "base_uri": "https://localhost:8080/"
        },
        "id": "5WZCbp0-DJvI",
        "outputId": "68d42471-2e3d-49a2-fa0f-89cc74335516"
      },
      "execution_count": null,
      "outputs": [
        {
          "output_type": "stream",
          "name": "stdout",
          "text": [
            "0 500 "
          ]
        }
      ]
    },
    {
      "cell_type": "code",
      "source": [
        "len(test_imgDataset)"
      ],
      "metadata": {
        "colab": {
          "base_uri": "https://localhost:8080/"
        },
        "id": "e3c_8KbGG896",
        "outputId": "f56814ec-b57a-4447-f344-46462415ad25"
      },
      "execution_count": null,
      "outputs": [
        {
          "output_type": "execute_result",
          "data": {
            "text/plain": [
              "600"
            ]
          },
          "metadata": {},
          "execution_count": 12
        }
      ]
    },
    {
      "cell_type": "code",
      "source": [
        "torch.save(test_imgDataset, \"download/testDataset.pt\")"
      ],
      "metadata": {
        "id": "aNMJfdlqHCQs"
      },
      "execution_count": null,
      "outputs": []
    },
    {
      "cell_type": "markdown",
      "source": [
        "# Create Custom Dataset"
      ],
      "metadata": {
        "id": "OuhZPsZBJKlD"
      }
    },
    {
      "cell_type": "code",
      "source": [
        "trainset = torch.load(filesPath + \"\")"
      ],
      "metadata": {
        "id": "4MtDDYPvKMq5"
      },
      "execution_count": null,
      "outputs": []
    },
    {
      "cell_type": "markdown",
      "source": [
        "## label_map"
      ],
      "metadata": {
        "id": "MZV5c9NPJm0O"
      }
    },
    {
      "cell_type": "code",
      "source": [
        "label_map = {0: 'Diego Velazquez',\n",
        " 1: 'Vincent van Gogh',\n",
        " 2: 'Claude Monet',\n",
        " 3: 'Edgar Degas',\n",
        " 4: 'Hieronymus Bosch',\n",
        " 5: 'Pierre-Auguste Renoir',\n",
        " 6: 'Rene Magritte',\n",
        " 7: 'Peter Paul Rubens',\n",
        " 8: 'Caravaggio',\n",
        " 9: 'Alfred Sisley',\n",
        " 10: 'Edouard Manet',\n",
        " 11: 'Rembrandt',\n",
        " 12: 'Pablo Picasso',\n",
        " 13: 'Titian',\n",
        " 14: 'Mikhail Vrubel',\n",
        " 15: 'Leonardo da Vinci',\n",
        " 16: 'Kazimir Malevich',\n",
        " 17: 'Andy Warhol',\n",
        " 18: 'Francisco Goya',\n",
        " 19: 'Vasiliy Kandinskiy',\n",
        " 20: 'Gustav Klimt',\n",
        " 21: 'Amedeo Modigliani',\n",
        " 22: 'Henri Rousseau',\n",
        " 23: 'Salvador Dali',\n",
        " 24: 'Pieter Bruegel',\n",
        " 25: 'Albrecht Du rer',\n",
        " 26: 'Paul Gauguin',\n",
        " 27: 'Sandro Botticelli',\n",
        " 28: 'Piet Mondrian',\n",
        " 29: 'Paul Klee',\n",
        " 30: 'William Turner',\n",
        " 31: 'Marc Chagall',\n",
        " 32: 'Jan van Eyck',\n",
        " 33: 'Henri Matisse',\n",
        " 34: 'El Greco',\n",
        " 35: 'Gustave Courbet',\n",
        " 36: 'Andrei Rublev',\n",
        " 37: 'Jackson Pollock',\n",
        " 38: 'Edvard Munch',\n",
        " 39: 'Camille Pissarro',\n",
        " 40: 'Raphael',\n",
        " 41: 'Henri de Toulouse-Lautrec',\n",
        " 42: 'Eugene Delacroix',\n",
        " 43: 'Joan Miro',\n",
        " 44: 'Giotto di Bondone',\n",
        " 45: 'Diego Rivera',\n",
        " 46: 'Frida Kahlo',\n",
        " 47: 'Georges Seurat',\n",
        " 48: 'Paul Cezanne',\n",
        " 49: 'Michelangelo'}"
      ],
      "metadata": {
        "id": "FeVADDWSJzsm"
      },
      "execution_count": null,
      "outputs": []
    },
    {
      "cell_type": "markdown",
      "source": [
        "## Visualize for each artist"
      ],
      "metadata": {
        "id": "GtJ3UMXAKAz_"
      }
    },
    {
      "cell_type": "code",
      "source": [
        "figure = plt.figure(figsize=(8, 8))\n",
        "cols, rows = 5, 10\n",
        "\n",
        "for i in range(50):\n",
        "  idx = 0\n",
        "  while i != trainset[idx][1]:\n",
        "    idx += 1\n",
        "  img, label = trainset[idx]\n",
        "\n",
        "  figure.add_subplot(rows, cols, i + 1)\n",
        "  plt.title(f\"{label_map[label]}: {i}\")\n",
        "  plt.axis(\"off\")\n",
        "  img = img.permute(1,2,0)\n",
        "  plt.imshow(img)\n",
        "\n",
        "plt.show()\n"
      ],
      "metadata": {
        "id": "HzYjjpsFJmX6"
      },
      "execution_count": null,
      "outputs": []
    },
    {
      "cell_type": "code",
      "source": [
        "class CustomDataset(Dataset):\n",
        "  def __init__(self, data):\n",
        "    self."
      ],
      "metadata": {
        "id": "AgpEml1NJKXL"
      },
      "execution_count": null,
      "outputs": []
    },
    {
      "cell_type": "markdown",
      "metadata": {
        "id": "QHa80hQOSjQa"
      },
      "source": [
        "# 3. Train with 224 * 224 image"
      ]
    },
    {
      "cell_type": "markdown",
      "metadata": {
        "id": "KhMz8rlNSjQa"
      },
      "source": [
        "## Load 224 * 224 image"
      ]
    },
    {
      "cell_type": "code",
      "execution_count": null,
      "metadata": {
        "id": "p0wYOnmcSjQb"
      },
      "outputs": [],
      "source": [
        "transform = transforms.Compose([transforms.ToTensor()])"
      ]
    },
    {
      "cell_type": "code",
      "execution_count": null,
      "metadata": {
        "id": "mYSs1ITHSjQb"
      },
      "outputs": [],
      "source": [
        "labelCSV = pd.read_csv(\"./data/train.csv\")"
      ]
    },
    {
      "cell_type": "code",
      "execution_count": null,
      "metadata": {
        "id": "FJly6qxJSjQb",
        "outputId": "c7fcaf9c-dc26-43f7-bb98-b9691bd5981c"
      },
      "outputs": [
        {
          "data": {
            "text/plain": [
              "0"
            ]
          },
          "execution_count": 48,
          "metadata": {},
          "output_type": "execute_result"
        }
      ],
      "source": [
        "label_map[\"Diego Velazquez\"]"
      ]
    },
    {
      "cell_type": "code",
      "execution_count": null,
      "metadata": {
        "id": "gzJB5Uv5SjQb",
        "outputId": "7f5fe145-253e-479f-b1a9-a89407061393"
      },
      "outputs": [
        {
          "name": "stdout",
          "output_type": "stream",
          "text": [
            ".\n",
            "0 Diego Velazquez\n"
          ]
        }
      ],
      "source": [
        "imgDataset = []\n",
        "\n",
        "for i, artist in enumerate(labelCSV['artist']):\n",
        "\n",
        "    print(i, artist)\n",
        "    data = []\n",
        "    img_path = \"./data/train/train_transformed1/\"+ labelCSV.iloc[i]['id'] + '.jpg'\n",
        "    img = Image.open(img_path)\n",
        "    #print(img)\n",
        "    imgTensor = transform(img)\n",
        "    data = (imgTensor, label_map[artist])\n",
        "\n",
        "    #imgNumpy.append(label_map[artist])\n",
        "    #trainData_afterTransform.append(imgNumpy)\n",
        "    imgDataset.append(data)\n",
        "    break"
      ]
    },
    {
      "cell_type": "code",
      "execution_count": null,
      "metadata": {
        "id": "Ia2HwnkRSjQb",
        "outputId": "61d3c2cc-9763-4ba1-9ba2-7169ebc112cb"
      },
      "outputs": [
        {
          "data": {
            "text/plain": [
              "(tensor([[[0.1922, 0.1922, 0.2039,  ..., 0.3765, 0.3686, 0.3608],\n",
              "          [0.2314, 0.2235, 0.2235,  ..., 0.3686, 0.3608, 0.3569],\n",
              "          [0.2510, 0.2392, 0.2314,  ..., 0.3608, 0.3569, 0.3529],\n",
              "          ...,\n",
              "          [0.1412, 0.1373, 0.1333,  ..., 0.1608, 0.1725, 0.1804],\n",
              "          [0.1529, 0.1529, 0.1451,  ..., 0.1647, 0.1725, 0.1843],\n",
              "          [0.1725, 0.1725, 0.1647,  ..., 0.1647, 0.1765, 0.1882]],\n",
              " \n",
              "         [[0.1490, 0.1490, 0.1490,  ..., 0.3020, 0.2941, 0.2863],\n",
              "          [0.1882, 0.1804, 0.1686,  ..., 0.2941, 0.2863, 0.2824],\n",
              "          [0.2078, 0.1961, 0.1765,  ..., 0.2824, 0.2784, 0.2745],\n",
              "          ...,\n",
              "          [0.0980, 0.0941, 0.0902,  ..., 0.0980, 0.1098, 0.1176],\n",
              "          [0.1098, 0.1098, 0.1020,  ..., 0.1020, 0.1098, 0.1216],\n",
              "          [0.1294, 0.1294, 0.1216,  ..., 0.1020, 0.1137, 0.1255]],\n",
              " \n",
              "         [[0.1412, 0.1412, 0.1451,  ..., 0.1843, 0.1765, 0.1686],\n",
              "          [0.1804, 0.1725, 0.1647,  ..., 0.1765, 0.1686, 0.1647],\n",
              "          [0.2000, 0.1882, 0.1725,  ..., 0.1765, 0.1725, 0.1686],\n",
              "          ...,\n",
              "          [0.1216, 0.1176, 0.1137,  ..., 0.0980, 0.1098, 0.1176],\n",
              "          [0.1333, 0.1333, 0.1255,  ..., 0.1020, 0.1098, 0.1216],\n",
              "          [0.1529, 0.1529, 0.1451,  ..., 0.1020, 0.1137, 0.1255]]]),\n",
              " 0)"
            ]
          },
          "execution_count": 45,
          "metadata": {},
          "output_type": "execute_result"
        }
      ],
      "source": [
        "imgDataset[0]"
      ]
    },
    {
      "cell_type": "code",
      "execution_count": null,
      "metadata": {
        "id": "sNL6O0C1SjQb",
        "outputId": "3786aee3-7111-4bd0-fac2-0602d0f8743c"
      },
      "outputs": [
        {
          "ename": "ValueError",
          "evalue": "only one element tensors can be converted to Python scalars",
          "output_type": "error",
          "traceback": [
            "\u001b[1;31m---------------------------------------------------------------------------\u001b[0m",
            "\u001b[1;31mValueError\u001b[0m                                Traceback (most recent call last)",
            "Cell \u001b[1;32mIn[27], line 1\u001b[0m\n\u001b[1;32m----> 1\u001b[0m \u001b[43mtorch\u001b[49m\u001b[38;5;241;43m.\u001b[39;49m\u001b[43mtensor\u001b[49m\u001b[43m(\u001b[49m\u001b[43mimgDataset\u001b[49m\u001b[43m)\u001b[49m\n",
            "\u001b[1;31mValueError\u001b[0m: only one element tensors can be converted to Python scalars"
          ]
        }
      ],
      "source": [
        "torch"
      ]
    },
    {
      "cell_type": "markdown",
      "metadata": {
        "id": "JRnPXZclSjQY"
      },
      "source": [
        "# (삭제예정)Transform image into torch dataset -> Tensor 변환하면 크기 너무 커짐(압축풀려서)"
      ]
    },
    {
      "cell_type": "code",
      "execution_count": null,
      "metadata": {
        "colab": {
          "base_uri": "https://localhost:8080/"
        },
        "id": "WLQBN89FSjQZ",
        "outputId": "4b68fa93-b80d-4d9c-c82c-9e1b69660723"
      },
      "outputs": [
        {
          "name": "stderr",
          "output_type": "stream",
          "text": [
            "/usr/local/lib/python3.10/dist-packages/torchvision/transforms/v2/_deprecated.py:42: UserWarning: The transform `ToTensor()` is deprecated and will be removed in a future release. Instead, please use `v2.Compose([v2.ToImage(), v2.ToDtype(torch.float32, scale=True)])`.Output is equivalent up to float precision.\n",
            "  warnings.warn(\n"
          ]
        }
      ],
      "source": [
        "transform = transforms.Compose([transforms.ToTensor()])"
      ]
    },
    {
      "cell_type": "code",
      "execution_count": null,
      "metadata": {
        "colab": {
          "base_uri": "https://localhost:8080/"
        },
        "id": "2lfM2AMrSjQZ",
        "outputId": "447975f7-2089-4e59-80d7-c0411d8bf3c0"
      },
      "outputs": [
        {
          "data": {
            "text/plain": [
              "dict_keys(['Diego Velazquez', 'Vincent van Gogh', 'Claude Monet', 'Edgar Degas', 'Hieronymus Bosch', 'Pierre-Auguste Renoir', 'Rene Magritte', 'Peter Paul Rubens', 'Caravaggio', 'Alfred Sisley', 'Edouard Manet', 'Rembrandt', 'Pablo Picasso', 'Titian', 'Mikhail Vrubel', 'Leonardo da Vinci', 'Kazimir Malevich', 'Andy Warhol', 'Francisco Goya', 'Vasiliy Kandinskiy', 'Gustav Klimt', 'Amedeo Modigliani', 'Henri Rousseau', 'Salvador Dali', 'Pieter Bruegel', 'Albrecht Du rer', 'Paul Gauguin', 'Sandro Botticelli', 'Piet Mondrian', 'Paul Klee', 'William Turner', 'Marc Chagall', 'Jan van Eyck', 'Henri Matisse', 'El Greco', 'Gustave Courbet', 'Andrei Rublev', 'Jackson Pollock', 'Edvard Munch', 'Camille Pissarro', 'Raphael', 'Henri de Toulouse-Lautrec', 'Eugene Delacroix', 'Joan Miro', 'Giotto di Bondone', 'Diego Rivera', 'Frida Kahlo', 'Georges Seurat', 'Paul Cezanne', 'Michelangelo'])"
            ]
          },
          "execution_count": 38,
          "metadata": {},
          "output_type": "execute_result"
        }
      ],
      "source": [
        "label_map = {}\n",
        "for i, artist in enumerate(trainLabelCSV['artist'].unique()):\n",
        "    label_map[artist] = i\n",
        "label_map.keys()"
      ]
    },
    {
      "cell_type": "code",
      "execution_count": null,
      "metadata": {
        "colab": {
          "base_uri": "https://localhost:8080/"
        },
        "id": "JoyVAOrDSjQZ",
        "outputId": "1b27a74c-7a24-4e82-c18f-939549a824c5"
      },
      "outputs": [
        {
          "name": "stdout",
          "output_type": "stream",
          "text": [
            "0 500 1000 "
          ]
        }
      ],
      "source": [
        "train_imgDataset = []\n",
        "\n",
        "for i, artist in enumerate(trainLabelCSV['artist']):\n",
        "    if i % 500 == 0:\n",
        "        print(i, end=\" \")\n",
        "    #print(i, artist)\n",
        "    data = []\n",
        "#    img_path = \"./data/train/train_original/\"+ trainLabelCSV.iloc[i]['id'] + '.jpg'\n",
        "    img_path = filesPath + \"/data/train/train_original/\"+ trainLabelCSV.iloc[i]['id'] + '.jpg'\n",
        "\n",
        "    img = Image.open(img_path)\n",
        "    #print(img)\n",
        "    imgTensor = transform(img)\n",
        "    data = (imgTensor, label_map[artist])\n",
        "\n",
        "    #imgNumpy.append(label_map[artist])\n",
        "    #trainData_afterTransform.append(imgNumpy)\n",
        "    train_imgDataset.append(data)"
      ]
    },
    {
      "cell_type": "code",
      "execution_count": null,
      "metadata": {
        "id": "yi4rFAEfSjQZ",
        "outputId": "31c4f179-e7dd-4600-945d-1f038f9f8b47"
      },
      "outputs": [
        {
          "data": {
            "text/plain": [
              "torch.Size([3, 224, 224])"
            ]
          },
          "execution_count": 41,
          "metadata": {},
          "output_type": "execute_result"
        }
      ],
      "source": [
        "train_imgDataset[0][0].shape"
      ]
    }
  ],
  "metadata": {
    "colab": {
      "provenance": [],
      "include_colab_link": true
    },
    "kernelspec": {
      "display_name": "Python 3",
      "language": "python",
      "name": "python3"
    },
    "language_info": {
      "codemirror_mode": {
        "name": "ipython",
        "version": 3
      },
      "file_extension": ".py",
      "mimetype": "text/x-python",
      "name": "python",
      "nbconvert_exporter": "python",
      "pygments_lexer": "ipython3",
      "version": "3.11.9"
    }
  },
  "nbformat": 4,
  "nbformat_minor": 0
}